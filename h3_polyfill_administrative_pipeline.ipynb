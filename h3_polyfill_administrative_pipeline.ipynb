{
 "cells": [
  {
   "cell_type": "code",
   "execution_count": null,
   "metadata": {},
   "outputs": [],
   "source": [
    "import itertools\n",
    "import json\n",
    "import h3\n",
    "import pandas as pd\n",
    "import psycopg2\n",
    "import psycopg2.extras\n",
    "from inspect import cleandoc\n",
    "from h3_transformation import H3Transformation\n",
    "from pg_client import PgClient"
   ]
  },
  {
   "attachments": {},
   "cell_type": "markdown",
   "metadata": {},
   "source": [
    "## Setup"
   ]
  },
  {
   "cell_type": "code",
   "execution_count": null,
   "metadata": {},
   "outputs": [],
   "source": [
    "# It is a wrapper class of psycopg2 to connect to PostgreSQL\n",
    "pg = PgClient(database=\"spatial_dwh\")"
   ]
  },
  {
   "attachments": {},
   "cell_type": "markdown",
   "metadata": {},
   "source": [
    "## Functions"
   ]
  },
  {
   "attachments": {},
   "cell_type": "markdown",
   "metadata": {},
   "source": [
    "### Administrative"
   ]
  },
  {
   "cell_type": "code",
   "execution_count": null,
   "metadata": {},
   "outputs": [],
   "source": [
    "def query_administrative_df(\n",
    "    pg: PgClient,\n",
    "    table: str,\n",
    "    geom_center_col: str = \"center\",\n",
    "    geom_col: str = \"geometry\",\n",
    "    as_geojson: bool = True,\n",
    ") -> pd.DataFrame:\n",
    "    sql = \"\"\"\n",
    "    SELECT \n",
    "        *,\n",
    "        {st_function}({geometry}) AS {geometry_alias},\n",
    "        ST_X({center}) AS {center}_lng,\n",
    "        ST_Y({center}) AS {center}_lat\n",
    "    FROM {table}\n",
    "    \"\"\".format(\n",
    "        geometry=geom_col, center=geom_center_col\n",
    "    )\n",
    "\n",
    "    # Check as_geojson parameter\n",
    "    if as_geojson:\n",
    "        query = sql.format(st_function=\"ST_AsGeoJSON\", geometry_alias=\"geojson\", table=table)\n",
    "    else:\n",
    "        query = sql.format(st_function=\"ST_AsText\", geometry_alias=\"geometry\", table=table)\n",
    "\n",
    "    # Fetch database\n",
    "    records: list = pg.fetchall(query)\n",
    "    adm_border_df = pd.DataFrame(records, columns=[desc[0] for desc in pg.cursor().description])\n",
    "\n",
    "    return adm_border_df"
   ]
  },
  {
   "attachments": {},
   "cell_type": "markdown",
   "metadata": {},
   "source": [
    "### GeoJSON -> H3"
   ]
  },
  {
   "cell_type": "code",
   "execution_count": null,
   "metadata": {},
   "outputs": [],
   "source": [
    "# Transform MultiPolygon GeoJSON into several Polygon GeoJSONs\n",
    "def geojson_multipolygon_to_polygons(geojson_multipolygon: dict) -> list:\n",
    "    multipolygon_coordinates: list = geojson_multipolygon[\"coordinates\"]\n",
    "    geojson_polygons = [{\"type\": \"Polygon\", \"coordinates\": polygon} for polygon in multipolygon_coordinates]\n",
    "    return geojson_polygons\n",
    "\n",
    "# Make sure your GeoJSON is of type Polygon (h3.polyfill() only accepts Polygon GeoJSON)\n",
    "def geojson_polygons_to_h3(geojson_polygons: list[str] | None, h3_res: int) -> set[str]:\n",
    "    if geojson_polygons is None:\n",
    "        raise Exception(\"Polygon GeoJSONs must not be None\")\n",
    "    if h3_res < 0 or h3_res > 15: # resolution must be within [0, 15]\n",
    "        raise Exception(\"Resolution must be in range [0, 15]\")\n",
    "\n",
    "    # Transform Polygons into sets of H3 cells\n",
    "    h3_cells_sets: list[set] = [\n",
    "        h3.polyfill(geojson=polygon, res=h3_res, geo_json_conformant=True)\n",
    "        for polygon in geojson_polygons\n",
    "    ]\n",
    "\n",
    "    # Union sets into a single set of H3 cells\n",
    "    h3_cells: set[str] = set().union(*h3_cells_sets)\n",
    "    return h3_cells"
   ]
  },
  {
   "attachments": {},
   "cell_type": "markdown",
   "metadata": {},
   "source": [
    "### PostgreSQL Operations"
   ]
  },
  {
   "cell_type": "code",
   "execution_count": null,
   "metadata": {},
   "outputs": [],
   "source": [
    "def get_h3_table_name(adm: str, res: int) -> str:\n",
    "    return f\"h3_{adm}_r{res}\"\n",
    "\n",
    "def _get_sql_columns(schema: dict[str, str]) -> str:\n",
    "    cols: str = ', '.join([col for col in schema.keys()])\n",
    "    return cols\n",
    "\n",
    "def create_h3_table(pg: PgClient, table: str, schema: dict) -> None:\n",
    "    cols_definition = \",\\n  \".join([f\"{k:{18}}{v}\" for k, v in schema.items()])\n",
    "    \n",
    "    # Format column_parameters into CREATE TABLE SQL\n",
    "    create_table_sql = f\"\"\"\n",
    "    CREATE TABLE {table} (\n",
    "        {cols_definition}\n",
    "        CONSTRAINT ck_resolution CHECK (resolution >= 0 AND resolution <= 15)\n",
    "    );\n",
    "    \"\"\"\n",
    "\n",
    "    # Execute CREATE TABLE SQL\n",
    "    pg.execute(create_table_sql)\n",
    "    print(\"Successfully created table\", table)\n",
    "\n",
    "def insert_h3_cells_to_table(\n",
    "    pg: PgClient,\n",
    "    h3_cells: set[str],\n",
    "    table: str,\n",
    "    schema: dict[str, str],\n",
    ") -> None:\n",
    "    # Constants\n",
    "    TABLE = table\n",
    "    COLUMNS = _get_sql_columns(schema=schema)\n",
    "\n",
    "    def _execute_values(pg: PgClient, h3_cells: set[str]) -> None:\n",
    "        DEFAULT_PAGE_SIZE = 1000\n",
    "        INSERT_STATEMENT = f\"\"\"\n",
    "        INSERT INTO {TABLE} ({COLUMNS})\n",
    "        VALUES\n",
    "        \"\"\"\n",
    "\n",
    "        cursor = pg.cursor()\n",
    "        print(\"Begin execute_values\")\n",
    "        psycopg2.extras.execute_values(\n",
    "            cursor,\n",
    "            sql=INSERT_STATEMENT + \"%s;\",\n",
    "            argslist=(\n",
    "                (\n",
    "                    h3.string_to_h3(cell),\n",
    "                    h3.h3_get_resolution(cell),\n",
    "                    h3.edge_length(h3.h3_get_resolution(cell), unit=\"m\"),\n",
    "                    h3.cell_area(cell, unit=\"m^2\"),\n",
    "                    h3.h3_to_geo(h=cell)[1],\n",
    "                    h3.h3_to_geo(h=cell)[0],\n",
    "                    H3Transformation.cell_to_geojson(\n",
    "                        h3_cell=cell,\n",
    "                        include_default_properties=False,\n",
    "                        geometry_only=True,\n",
    "                    ),\n",
    "                ) for cell in h3_cells\n",
    "            ),\n",
    "            template=\"\"\"(\n",
    "                %s, \n",
    "                %s, \n",
    "                %s, \n",
    "                %s,  \n",
    "                ST_SetSRID(ST_Point(%s, %s), 4326), \n",
    "                ST_SetSRID(ST_GeomFromGeoJSON(%s), 4326)\n",
    "            )\"\"\",\n",
    "            page_size=DEFAULT_PAGE_SIZE,\n",
    "        )\n",
    "\n",
    "        # Commit changes\n",
    "        pg.commit()\n",
    "        print(\"Successfully inserted H3 cells into table\", TABLE)\n",
    "\n",
    "    # Begin execution\n",
    "    _execute_values(pg=pg, h3_cells=h3_cells)\n",
    "\n",
    "def add_primary_key(pg: PgClient, table: str, column: str = \"idx\") -> None:\n",
    "    # Get ALTER TABLE SQL\n",
    "    pg.execute(f\"ALTER TABLE {table} ADD PRIMARY KEY ({column});\")\n",
    "    print(\"Successfully added primary key to table\", table)\n",
    "\n",
    "def create_gist_index_sql(pg: PgClient, table: str) -> None:\n",
    "    create_gist_index_sql = f\"\"\"\n",
    "    CREATE INDEX gidx_{table}\n",
    "    ON {table} USING GIST (geometry);\n",
    "    \"\"\"\n",
    "\n",
    "    pg.execute(create_gist_index_sql)\n",
    "    print(\"Successfully created GIST index for table\", table)"
   ]
  },
  {
   "attachments": {},
   "cell_type": "markdown",
   "metadata": {},
   "source": [
    "## H3 Polyfill Vietnam Pipeline"
   ]
  },
  {
   "attachments": {},
   "cell_type": "markdown",
   "metadata": {},
   "source": [
    "### Configurations"
   ]
  },
  {
   "cell_type": "code",
   "execution_count": null,
   "metadata": {},
   "outputs": [],
   "source": [
    "administrative = \"vietnam\"\n",
    "resolution = 7\n",
    "\n",
    "table = get_h3_table_name(adm=administrative, res=resolution)\n",
    "\n",
    "h3_table_schema = {\n",
    "    \"idx\": \"INT8 NOT NULL\",\n",
    "    \"resolution\": \"INT2 NOT NULL\",\n",
    "    \"circumradius_m\": \"FLOAT8 NOT NULL\",\n",
    "    \"area_m2\": \"FLOAT8 NOT NULL\",\n",
    "    \"centroid\": \"GEOMETRY (POINT, 4326) NOT NULL\",\n",
    "    \"geometry\": \"GEOMETRY (POLYGON, 4326) NOT NULL\",\n",
    "}"
   ]
  },
  {
   "attachments": {},
   "cell_type": "markdown",
   "metadata": {},
   "source": [
    "### Extract Vietnam's border Polygons (GeoJSON)"
   ]
  },
  {
   "cell_type": "code",
   "execution_count": null,
   "metadata": {},
   "outputs": [],
   "source": [
    "# Get Vietnam border\n",
    "vietnam_border_df = query_administrative_df(\n",
    "    pg=pg,\n",
    "    table=\"vietnam_border\",\n",
    "    geom_col=\"geometry\",\n",
    "    geom_center_col=\"centroid\",\n",
    "    as_geojson=True,\n",
    ")\n",
    "\n",
    "display(vietnam_border_df)"
   ]
  },
  {
   "cell_type": "code",
   "execution_count": null,
   "metadata": {},
   "outputs": [],
   "source": [
    "# Extract data from PostgreSQL (with Pandas)\n",
    "vn_centroid_lng = vietnam_border_df[\"centroid_lng\"].values[0]\n",
    "vn_centroid_lat = vietnam_border_df[\"centroid_lat\"].values[0]\n",
    "vn_multipolygon_geojson = json.loads(vietnam_border_df[\"geojson\"].values[0])\n",
    "print(vn_centroid_lng, vn_centroid_lat)\n",
    "print(type(vn_multipolygon_geojson))"
   ]
  },
  {
   "cell_type": "code",
   "execution_count": null,
   "metadata": {},
   "outputs": [],
   "source": [
    "# Convert Vietnam border MultiPolygon to Polygons\n",
    "vn_polygon_geojsons = geojson_multipolygon_to_polygons(vn_multipolygon_geojson)\n",
    "print(vn_polygon_geojsons[0])"
   ]
  },
  {
   "attachments": {},
   "cell_type": "markdown",
   "metadata": {},
   "source": [
    "### Generate H3 & save to PostgreSQL"
   ]
  },
  {
   "cell_type": "code",
   "execution_count": null,
   "metadata": {},
   "outputs": [],
   "source": [
    "# Generate H3 cells\n",
    "vietnam_border_cells = geojson_polygons_to_h3(\n",
    "    geojson_polygons=vn_polygon_geojsons, h3_res=resolution\n",
    ")\n",
    "print(len(vietnam_border_cells))\n",
    "\n",
    "# H3 subset in case of Testing (h3_cells could grow very large)\n",
    "vietnam_border_cells_subset = set(itertools.islice(vietnam_border_cells, 10))"
   ]
  },
  {
   "cell_type": "code",
   "execution_count": null,
   "metadata": {},
   "outputs": [],
   "source": [
    "# PostgreSQL operations\n",
    "h3_cells = vietnam_border_cells\n",
    "\n",
    "try:\n",
    "    create_h3_table(pg, table, h3_table_schema)\n",
    "    insert_h3_cells_to_table(pg, h3_cells, table, h3_table_schema)\n",
    "    add_primary_key(pg, table)\n",
    "    create_gist_index_sql(pg, table)\n",
    "except (Exception, psycopg2.DatabaseError, psycopg2.ProgrammingError) as error:\n",
    "    print(error)\n",
    "finally:\n",
    "    pg.close()"
   ]
  }
 ],
 "metadata": {
  "kernelspec": {
   "display_name": "h3-py",
   "language": "python",
   "name": "python3"
  },
  "language_info": {
   "codemirror_mode": {
    "name": "ipython",
    "version": 3
   },
   "file_extension": ".py",
   "mimetype": "text/x-python",
   "name": "python",
   "nbconvert_exporter": "python",
   "pygments_lexer": "ipython3",
   "version": "3.11.3"
  },
  "orig_nbformat": 4
 },
 "nbformat": 4,
 "nbformat_minor": 2
}
