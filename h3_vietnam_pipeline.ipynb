{
 "cells": [
  {
   "cell_type": "code",
   "execution_count": null,
   "metadata": {},
   "outputs": [],
   "source": [
    "import time\n",
    "import itertools\n",
    "import json\n",
    "import h3\n",
    "import pandas as pd\n",
    "import psycopg2\n",
    "import psycopg2.extras\n",
    "from inspect import cleandoc\n",
    "from dotenv import load_dotenv\n",
    "from h3_transformation import H3Transformation\n",
    "from pg_client import PgClient"
   ]
  },
  {
   "attachments": {},
   "cell_type": "markdown",
   "metadata": {},
   "source": [
    "## Setup"
   ]
  },
  {
   "cell_type": "code",
   "execution_count": null,
   "metadata": {},
   "outputs": [],
   "source": [
    "pg_client = PgClient(database='spatial_dwh')"
   ]
  },
  {
   "attachments": {},
   "cell_type": "markdown",
   "metadata": {},
   "source": [
    "## Definitions"
   ]
  },
  {
   "attachments": {},
   "cell_type": "markdown",
   "metadata": {},
   "source": [
    "### administrative border"
   ]
  },
  {
   "cell_type": "code",
   "execution_count": null,
   "metadata": {},
   "outputs": [],
   "source": [
    "def get_administrative_df(pg: PgClient, table: str, as_geojson: bool = True) -> pd.DataFrame:\n",
    "    sql = \"\"\"\n",
    "    SELECT \n",
    "        *,\n",
    "        {st}(geometry) AS {geometry_alias},\n",
    "        ST_X(centroid) AS centroid_lng,\n",
    "        ST_Y(centroid) AS centroid_lat\n",
    "    FROM {table}\n",
    "    \"\"\"\n",
    "\n",
    "    # Check as_geojson parameter\n",
    "    if as_geojson:\n",
    "        query = sql.format(st=\"ST_AsGeoJSON\", geometry_alias=\"geojson\", table=table)\n",
    "    else:\n",
    "        query = sql.format(st=\"ST_AsText\", geometry_alias=\"geometry\", table=table)\n",
    "\n",
    "    # Fetch database\n",
    "    records: list = []\n",
    "    try:\n",
    "        records = pg.fetchall(query)\n",
    "    except (Exception, psycopg2.DatabaseError) as error:\n",
    "        print(error)\n",
    "        \n",
    "    adm_border_df = pd.DataFrame(\n",
    "            records, columns=[desc[0] for desc in pg.cursor().description]\n",
    "    )\n",
    "\n",
    "    return adm_border_df\n",
    "\n",
    "# Transform MultiPolygon GeoJSON into several Polygon GeoJSONs\n",
    "def multipolygon_to_polygons(multipolygon_geojson: dict) -> list:\n",
    "    polygon_geojsons = []\n",
    "    for polygon in multipolygon_geojson[\"coordinates\"]:\n",
    "        vn_polygon_geojson = {\n",
    "            \"type\": \"Polygon\",\n",
    "            \"coordinates\": polygon\n",
    "        }\n",
    "        polygon_geojsons.append(vn_polygon_geojson)\n",
    "    \n",
    "    return polygon_geojsons"
   ]
  },
  {
   "attachments": {},
   "cell_type": "markdown",
   "metadata": {},
   "source": [
    "### GeoJSON"
   ]
  },
  {
   "cell_type": "code",
   "execution_count": null,
   "metadata": {},
   "outputs": [],
   "source": [
    "def polygon_geojsons_to_h3(polygon_geojsons: list[str] | None, res: int) -> set[str]:\n",
    "    # Exceptions\n",
    "    if polygon_geojsons is None:\n",
    "        # throw exception\n",
    "        raise Exception(\"Polygon GeoJSONs must not be None\")\n",
    "    \n",
    "    # resolution must be within [0, 15]\n",
    "    if res < 0 or res > 15:\n",
    "        raise Exception(\"Resolution must be in range [0, 15]\")\n",
    "    \n",
    "    # Transform Polygons into sets of H3 cells\n",
    "    h_cell_sets: list[set] = []\n",
    "    for polygon_geojson in polygon_geojsons:\n",
    "        h_cell_sets.append(h3.polyfill(geojson=polygon_geojson, res=res, geo_json_conformant=True))\n",
    "        \n",
    "    # Union sets into a single set of H3 cells\n",
    "    h_cells: set[str] = set().union(*h_cell_sets)\n",
    "        \n",
    "    return h_cells"
   ]
  },
  {
   "attachments": {},
   "cell_type": "markdown",
   "metadata": {},
   "source": [
    "### H3"
   ]
  },
  {
   "cell_type": "code",
   "execution_count": null,
   "metadata": {},
   "outputs": [],
   "source": [
    "def get_h3_table_name(adm: str, res: int) -> str:\n",
    "    return f\"h3_{adm}_r{res}\"\n",
    "\n",
    "def get_sql_columns(schema: dict[str, str]) -> str:\n",
    "    columns = \"\"\n",
    "    last_column = list(schema.keys())[-1]\n",
    "    for column in schema.keys():\n",
    "        columns += column\n",
    "        if column != last_column:\n",
    "            columns += \", \"\n",
    "\n",
    "    return columns\n",
    "\n",
    "def create_h3_table(pg: PgClient, table: str, schema: dict) -> None:\n",
    "    COLUMN_MAX_LENGTH = 18\n",
    "    SEP = \",\\n    \"\n",
    "    \n",
    "    # Parse schema and build column parameters\n",
    "    columns_definition = \"\"\n",
    "    for key, value in schema.items():\n",
    "        columns_definition += f\"{key:{COLUMN_MAX_LENGTH}}{value}{SEP}\"\n",
    "\n",
    "    # Format column_parameters into CREATE TABLE SQL\n",
    "    create_table_sql = f\"\"\"\n",
    "    CREATE TABLE {table} (\n",
    "        {columns_definition}\n",
    "        CONSTRAINT ck_resolution CHECK (resolution >= 0 AND resolution <= 15)\n",
    "    );\n",
    "    \"\"\"\n",
    "    \n",
    "    # Execute CREATE TABLE SQL\n",
    "    pg.execute(create_table_sql)\n",
    "    print(\"Successfully created table\", table)\n",
    "    \n",
    "    return None\n",
    "\n",
    "def insert_h3_to_table(\n",
    "    pg: PgClient, h3_cells: set[str], table: str, schema: dict[str, str], multi_values_exec: bool = False\n",
    ") -> None:\n",
    "    \n",
    "    # Constants\n",
    "    TABLE = table\n",
    "    COLUMNS = get_sql_columns(schema=schema)\n",
    "    TOTAL_HEXAGONS = len(h3_cells)\n",
    "    POSTGRES_STATEMENT_MAX_RECORDS = 1000\n",
    "\n",
    "    # Batch INSERT methods\n",
    "    def _multi_values_execute(pg: PgClient, h3_cells: set[str]) -> None:\n",
    "        print(\"WARN: Using multi-values execute mode.\")\n",
    "        \n",
    "        # Constants\n",
    "        INSERT_STATEMENT = f\"\"\"\n",
    "        INSERT INTO {TABLE} ({COLUMNS})\n",
    "        VALUES\n",
    "        \"\"\"\n",
    "        \n",
    "        # Initialize variables\n",
    "        execution_count = 0\n",
    "        record_count = 0\n",
    "        values_arguments_count = 0\n",
    "        values_arguments_sql = \"\"\n",
    "        \n",
    "        # Iterate over H3 cells & perform database execution\n",
    "        for cell in h3_cells:\n",
    "            record_count += 1\n",
    "\n",
    "            # Extract H3 data for each hexagon\n",
    "            idx = h3.string_to_h3(cell)\n",
    "            resolution = h3.h3_get_resolution(cell)\n",
    "            circumradius_m = h3.edge_length(resolution, unit=\"m\")\n",
    "            area_m2 = h3.cell_area(cell, unit=\"m^2\")\n",
    "            centroid_lat, centroid_lng = h3.h3_to_geo(h=cell) # the centroid_lat, centroid_lng order matters\n",
    "            geometry_geojson = H3Transformation.cell_to_geojson(\n",
    "                h3_cell=cell, include_default_properties=False, geometry_only=True\n",
    "            )\n",
    "\n",
    "            # Prepare values_arguments\n",
    "            values_arguments_sql += f\"\"\"\n",
    "            (\n",
    "                {idx},\n",
    "                {resolution},\n",
    "                {circumradius_m},\n",
    "                {area_m2},\n",
    "                ST_SetSRID(ST_Point({centroid_lng}, {centroid_lat}), 4326),\n",
    "                ST_GeomFromGeoJSON('{geometry_geojson}')\n",
    "            ),\"\"\"\n",
    "            values_arguments_count += 1\n",
    "\n",
    "            # If reached POSTGRES_STATEMENT_MAX_RECORDS or record_count == TOTAL_HEXAGONS\n",
    "            if (record_count % POSTGRES_STATEMENT_MAX_RECORDS == 0) or (\n",
    "                record_count == TOTAL_HEXAGONS\n",
    "            ):\n",
    "                # Raise exception if values_arguments_count > POSTGRES_STATEMENT_MAX_RECORDS\n",
    "                if values_arguments_count > POSTGRES_STATEMENT_MAX_RECORDS:\n",
    "                    raise Exception(f\"values_arguments_count ({values_arguments_count}) > POSTGRES_STATEMENT_MAX_RECORDS ({POSTGRES_STATEMENT_MAX_RECORDS})\")\n",
    "\n",
    "                # Format values_arguments to execute query\n",
    "                values_arguments_sql = values_arguments_sql.rstrip(\",\") # Remove last comma\n",
    "                insert_query = INSERT_STATEMENT + values_arguments_sql\n",
    "                pg.execute(query=insert_query)\n",
    "                \n",
    "                execution_count += 1\n",
    "                # Print records_count every N_EXECUTIONS\n",
    "                N_EXECUTIONS = 10\n",
    "                if (execution_count % N_EXECUTIONS == 0):\n",
    "                    print(f\"--- Inserted records:\", record_count)\n",
    "                \n",
    "                # Reset\n",
    "                values_arguments_sql = \"\"\n",
    "                values_arguments_count = 0\n",
    "    \n",
    "    def _execute_values(pg: PgClient, h3_cells: set[str]) -> None:\n",
    "        DEFAULT_PAGE_SIZE = 1000\n",
    "        INSERT_STATEMENT = f\"\"\"\n",
    "        INSERT INTO {TABLE} ({COLUMNS})\n",
    "        VALUES\n",
    "        \"\"\"\n",
    "        \n",
    "        cursor = pg.cursor()\n",
    "        print(\"Begin execute_values\")\n",
    "        psycopg2.extras.execute_values(cursor,\n",
    "            sql=INSERT_STATEMENT + \"%s;\", \n",
    "            argslist=((\n",
    "                h3.string_to_h3(cell),\n",
    "                h3.h3_get_resolution(cell),\n",
    "                h3.edge_length(h3.h3_get_resolution(cell), unit=\"m\"),\n",
    "                h3.cell_area(cell, unit=\"m^2\"),\n",
    "                h3.h3_to_geo(h=cell)[1], h3.h3_to_geo(h=cell)[0],\n",
    "                H3Transformation.cell_to_geojson(h3_cell=cell, include_default_properties=False, geometry_only=True),\n",
    "            ) for cell in h3_cells),\n",
    "            template=\"(%s, %s, %s, %s,  ST_SetSRID(ST_Point(%s, %s), 4326), ST_GeomFromGeoJSON(%s))\",\n",
    "            page_size=DEFAULT_PAGE_SIZE\n",
    "        )\n",
    "            \n",
    "        # Commit changes\n",
    "        pg.commit()\n",
    "        print(\"Successfully inserted H3 cells into table\", TABLE)\n",
    "    \n",
    "    # EXECUTION METHODS\n",
    "    if multi_values_exec:\n",
    "        _multi_values_execute(pg=pg, h3_cells=h3_cells)\n",
    "    else:\n",
    "        # Default execution method (faster)\n",
    "        _execute_values(pg=pg, h3_cells=h3_cells)\n",
    "        \n",
    "    return None\n",
    "\n",
    "def add_primary_key(pg: PgClient, table: str, column: str = \"idx\") -> None:\n",
    "    # Get ALTER TABLE SQL\n",
    "    alter_table_sql = f\"ALTER TABLE {table} ADD PRIMARY KEY ({column});\"\n",
    "\n",
    "    # Execute ALTER TABLE SQL\n",
    "    pg.execute(alter_table_sql)\n",
    "    print(\"Successfully added primary key to table\", table)\n",
    "    \n",
    "    return None\n",
    "\n",
    "def create_gist_index_sql(pg: PgClient, table: str) -> None:\n",
    "    create_gist_index_sql = f\"\"\"\n",
    "    CREATE INDEX gidx_{table}\n",
    "    ON {table} USING GIST (geometry);\n",
    "    \"\"\"\n",
    "    \n",
    "    pg_client.execute(create_gist_index_sql)\n",
    "    print(\"Successfully created GIST index for table\", table)\n",
    "    \n",
    "    return None"
   ]
  },
  {
   "attachments": {},
   "cell_type": "markdown",
   "metadata": {},
   "source": [
    "## H3 Vietnam Pipeline"
   ]
  },
  {
   "attachments": {},
   "cell_type": "markdown",
   "metadata": {},
   "source": [
    "### Configurations"
   ]
  },
  {
   "cell_type": "code",
   "execution_count": null,
   "metadata": {},
   "outputs": [],
   "source": [
    "administrative = \"vietnam\"\n",
    "resolution = 7\n",
    "\n",
    "table = get_h3_table_name(adm=administrative, res=resolution) + \"_test\"\n",
    "\n",
    "h3_table_schema = {\n",
    "    \"idx\": \"INT8 NOT NULL\",\n",
    "    \"resolution\": \"INT2 NOT NULL\",\n",
    "    \"circumradius_m\": \"FLOAT8 NOT NULL\",\n",
    "    \"area_m2\": \"FLOAT8 NOT NULL\",\n",
    "    \"centroid\": \"GEOMETRY (POINT, 4326) NOT NULL\",\n",
    "    \"geometry\": \"GEOMETRY (POLYGON, 4326) NOT NULL\",\n",
    "}"
   ]
  },
  {
   "attachments": {},
   "cell_type": "markdown",
   "metadata": {},
   "source": [
    "### Extract Vietnam's border Polygons (GeoJSON)"
   ]
  },
  {
   "cell_type": "code",
   "execution_count": null,
   "metadata": {},
   "outputs": [],
   "source": [
    "# Get Vietnam border\n",
    "vietnam_border_df = get_administrative_df(pg=pg_client, table='vietnam_border', as_geojson=True)\n",
    "display(vietnam_border_df)"
   ]
  },
  {
   "cell_type": "code",
   "execution_count": null,
   "metadata": {},
   "outputs": [],
   "source": [
    "# Extract data from PostgreSQL\n",
    "vn_centroid_lng = vietnam_border_df[\"centroid_lng\"].values[0]\n",
    "vn_centroid_lat = vietnam_border_df[\"centroid_lat\"].values[0] \n",
    "vn_multipolygon_geojson = json.loads(vietnam_border_df[\"geojson\"].values[0])\n",
    "print(vn_centroid_lng, vn_centroid_lat)\n",
    "print(type(vn_multipolygon_geojson))"
   ]
  },
  {
   "cell_type": "code",
   "execution_count": null,
   "metadata": {},
   "outputs": [],
   "source": [
    "# Convert Vietnam border MultiPolygon to Polygons\n",
    "vn_polygon_geojsons = multipolygon_to_polygons(vn_multipolygon_geojson)\n",
    "print(vn_polygon_geojsons[0])"
   ]
  },
  {
   "attachments": {},
   "cell_type": "markdown",
   "metadata": {},
   "source": [
    "### Generate H3 & save to PostgreSQL"
   ]
  },
  {
   "cell_type": "code",
   "execution_count": null,
   "metadata": {},
   "outputs": [],
   "source": [
    "# Generate H3 cells\n",
    "vietnam_border_cells = polygon_geojsons_to_h3(polygon_geojsons=vn_polygon_geojsons, res=resolution)\n",
    "print(len(vietnam_border_cells))\n",
    "\n",
    "# H3 subset in case of Testing (h3_cells could grow very large)\n",
    "# vietnam_border_cells_subset = set(itertools.islice(vietnam_border_cells, 10))"
   ]
  },
  {
   "cell_type": "code",
   "execution_count": null,
   "metadata": {},
   "outputs": [],
   "source": [
    "# PostgreSQL operations\n",
    "h3_cells = vietnam_border_cells\n",
    "\n",
    "try:\n",
    "    create_h3_table(pg_client, table, h3_table_schema)\n",
    "    insert_h3_to_table(pg_client, h3_cells, table, h3_table_schema, multi_values_exec=True)\n",
    "    add_primary_key(pg_client, table)\n",
    "    create_gist_index_sql(pg_client, table)\n",
    "except (Exception, psycopg2.DatabaseError, psycopg2.ProgrammingError) as error:\n",
    "    print(error)\n",
    "finally:\n",
    "    pg_client.close()"
   ]
  }
 ],
 "metadata": {
  "kernelspec": {
   "display_name": "h3-py",
   "language": "python",
   "name": "python3"
  },
  "language_info": {
   "codemirror_mode": {
    "name": "ipython",
    "version": 3
   },
   "file_extension": ".py",
   "mimetype": "text/x-python",
   "name": "python",
   "nbconvert_exporter": "python",
   "pygments_lexer": "ipython3",
   "version": "3.11.3"
  },
  "orig_nbformat": 4
 },
 "nbformat": 4,
 "nbformat_minor": 2
}
