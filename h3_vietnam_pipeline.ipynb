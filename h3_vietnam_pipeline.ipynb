{
 "cells": [
  {
   "cell_type": "code",
   "execution_count": 1,
   "metadata": {},
   "outputs": [],
   "source": [
    "import os\n",
    "import h3\n",
    "import psycopg2\n",
    "import json\n",
    "import itertools\n",
    "import time\n",
    "import pandas as pd\n",
    "from dotenv import load_dotenv\n",
    "from h3_transformation import H3Transformation\n",
    "from pg_client import PgClient"
   ]
  },
  {
   "attachments": {},
   "cell_type": "markdown",
   "metadata": {},
   "source": [
    "## PostgreSQL"
   ]
  },
  {
   "cell_type": "code",
   "execution_count": 5,
   "metadata": {},
   "outputs": [
    {
     "name": "stdout",
     "output_type": "stream",
     "text": [
      "Connected to PostgreSQL database 'spatial_dwh'\n"
     ]
    }
   ],
   "source": [
    "pg = PgClient(database='spatial_dwh')"
   ]
  },
  {
   "cell_type": "code",
   "execution_count": 10,
   "metadata": {},
   "outputs": [
    {
     "data": {
      "text/html": [
       "<div>\n",
       "<style scoped>\n",
       "    .dataframe tbody tr th:only-of-type {\n",
       "        vertical-align: middle;\n",
       "    }\n",
       "\n",
       "    .dataframe tbody tr th {\n",
       "        vertical-align: top;\n",
       "    }\n",
       "\n",
       "    .dataframe thead th {\n",
       "        text-align: right;\n",
       "    }\n",
       "</style>\n",
       "<table border=\"1\" class=\"dataframe\">\n",
       "  <thead>\n",
       "    <tr style=\"text-align: right;\">\n",
       "      <th></th>\n",
       "      <th>country_id</th>\n",
       "      <th>country_name_vn</th>\n",
       "      <th>level</th>\n",
       "      <th>country_name</th>\n",
       "      <th>geometry</th>\n",
       "      <th>centroid</th>\n",
       "      <th>geojson</th>\n",
       "      <th>centroid_x</th>\n",
       "      <th>centroid_y</th>\n",
       "    </tr>\n",
       "  </thead>\n",
       "  <tbody>\n",
       "    <tr>\n",
       "      <th>0</th>\n",
       "      <td>1</td>\n",
       "      <td>Việt Nam</td>\n",
       "      <td>Quốc gia</td>\n",
       "      <td>Vietnam</td>\n",
       "      <td>0106000020E61000003B08000001030000000100000019...</td>\n",
       "      <td>0101000020E6100000B4B5522A029A5A40CEC8A6EADA93...</td>\n",
       "      <td>{\"type\":\"MultiPolygon\",\"coordinates\":[[[[113.8...</td>\n",
       "      <td>106.406382</td>\n",
       "      <td>16.577559</td>\n",
       "    </tr>\n",
       "  </tbody>\n",
       "</table>\n",
       "</div>"
      ],
      "text/plain": [
       "  country_id country_name_vn     level country_name  \\\n",
       "0          1        Việt Nam  Quốc gia      Vietnam   \n",
       "\n",
       "                                            geometry  \\\n",
       "0  0106000020E61000003B08000001030000000100000019...   \n",
       "\n",
       "                                            centroid  \\\n",
       "0  0101000020E6100000B4B5522A029A5A40CEC8A6EADA93...   \n",
       "\n",
       "                                             geojson  centroid_x  centroid_y  \n",
       "0  {\"type\":\"MultiPolygon\",\"coordinates\":[[[[113.8...  106.406382   16.577559  "
      ]
     },
     "metadata": {},
     "output_type": "display_data"
    }
   ],
   "source": [
    "def get_administrative_border_df(pg_client: PgClient, table: str, as_geojson: bool = True) -> pd.DataFrame:\n",
    "    sql = \"\"\"\n",
    "    SELECT \n",
    "        *,\n",
    "        {st}(geometry) AS {geometry_alias},\n",
    "        ST_X(centroid) AS centroid_x,\n",
    "        ST_Y(centroid) AS centroid_y\n",
    "    FROM {table}\n",
    "    \"\"\"\n",
    "\n",
    "    # Check as_geojson parameter\n",
    "    if as_geojson:\n",
    "        query = sql.format(st=\"ST_AsGeoJSON\", geometry_alias=\"geojson\", table=table)\n",
    "    else:\n",
    "        query = sql.format(st=\"ST_AsText\", geometry_alias=\"geometry\", table=table)\n",
    "\n",
    "    # Fetch database\n",
    "    adm_border_df = None\n",
    "    try:\n",
    "        records: list = pg.fetchall(query)\n",
    "        adm_border_df = pd.DataFrame(\n",
    "            records, columns=[desc[0] for desc in pg.cursor().description]\n",
    "        )\n",
    "    except (Exception, psycopg2.DatabaseError) as error:\n",
    "        print(error)\n",
    "\n",
    "    return adm_border_df\n",
    "\n",
    "vietnam_border_df = get_administrative_border_df(pg_client=pg, table='vietnam_border', as_geojson=True)\n",
    "display(vietnam_border_df)"
   ]
  },
  {
   "cell_type": "code",
   "execution_count": 9,
   "metadata": {},
   "outputs": [
    {
     "name": "stdout",
     "output_type": "stream",
     "text": [
      "106.4063821609223 16.57755915233502\n",
      "{'type': 'Polygon', 'coordinates': [[[107.39292908, 21.03173828], [107.38712311, 21.0298233], [107.38407135, 21.0219307], [107.38005829, 21.01855278], [107.38323975, 21.03806877], [107.38842011, 21.03846359], [107.3915329, 21.0358448], [107.39292908, 21.03173828]]]}\n"
     ]
    }
   ],
   "source": [
    "# Extract data from PostgreSQL\n",
    "vn_centroid_lng = vietnam_border_df[\"centroid_x\"].values[0]\n",
    "vn_centroid_lat = vietnam_border_df[\"centroid_y\"].values[0]\n",
    "vn_multipolygon_geojson = json.loads(vietnam_border_df[\"geojson\"].values[0])\n",
    "print(vn_centroid_lng, vn_centroid_lat)\n",
    "\n",
    "# Transform MultiPolygon GeoJSON into several Polygon GeoJSONs\n",
    "vn_polygon_geojsons = []\n",
    "for polygon in vn_multipolygon_geojson[\"coordinates\"]:\n",
    "    vn_polygon_geojson = {\n",
    "        \"type\": \"Polygon\",\n",
    "        \"coordinates\": polygon\n",
    "    }\n",
    "    \n",
    "    vn_polygon_geojsons.append(vn_polygon_geojson)\n",
    "\n",
    "print(vn_polygon_geojsons[-1])"
   ]
  },
  {
   "attachments": {},
   "cell_type": "markdown",
   "metadata": {},
   "source": [
    "## H3"
   ]
  },
  {
   "cell_type": "code",
   "execution_count": null,
   "metadata": {},
   "outputs": [],
   "source": [
    "def polygon_geojsons_to_h3(polygon_geojsons: list[str], resolution: int) -> set[str]:\n",
    "    # resolution must be within [0, 15]\n",
    "    if resolution < 0 or resolution > 15:\n",
    "        raise Exception(\"Resolution must be in range [0, 15]\")\n",
    "    \n",
    "    h_cell_sets = []\n",
    "    for polygon_geojson in polygon_geojsons:\n",
    "        h_cell_sets.append(h3.polyfill(geojson=polygon_geojson, res=resolution, geo_json_conformant=True))\n",
    "\n",
    "resolution = 9 # r10: area = 0.0150475 km^2, edge = 0.065907807 km, unique_hex = 33,897,029,882\n",
    "\n",
    "h_cell_sets: list[str] = []\n",
    "for polygon_geojson in vn_polygon_geojsons:\n",
    "    h_cell_sets.append(h3.polyfill(geojson=polygon_geojson, res=resolution, geo_json_conformant=True))\n",
    "\n",
    "# polyfill_geojson = H3Transformation.h3_to_geojson(h_cells)\n",
    "# print(polyfill_geojson)``"
   ]
  },
  {
   "cell_type": "code",
   "execution_count": null,
   "metadata": {},
   "outputs": [],
   "source": [
    "h_cells = set().union(*h_cell_sets)\n",
    "type(h_cells)\n",
    "len(h_cells)"
   ]
  },
  {
   "cell_type": "code",
   "execution_count": null,
   "metadata": {},
   "outputs": [],
   "source": [
    "# Database logic\n",
    "administrative = \"vietnam\"\n",
    "table = f\"h3_{administrative}_r{resolution}\"\n",
    "\n",
    "conn = None\n",
    "try:\n",
    "    # Connect to database\n",
    "    conn = psycopg2.connect(**PG_CONF)\n",
    "    print(f'Connection established to database: \"{PG_CONF[\"database\"]}\".')\n",
    "    \n",
    "    # CREATE TABLE\n",
    "    create_table_sql = f\"\"\"\n",
    "    CREATE TABLE {table} (\n",
    "        idx             INT8 NOT NULL,\n",
    "        resolution      INT2 NOT NULL,\n",
    "        circumradius_m  FLOAT8 NOT NULL,\n",
    "        area_m2         FLOAT8 NOT NULL,\n",
    "        centroid        GEOMETRY (POINT, 4326) NOT NULL,\n",
    "        geometry        GEOMETRY (POLYGON, 4326) NOT NULL,\n",
    "        \n",
    "        CONSTRAINT  ck_resolution CHECK (resolution >= 0 AND resolution <= 15)\n",
    "    );\n",
    "    \"\"\"\n",
    "    \n",
    "    # ADD PRIMARY KEY and CREATE INDEX\n",
    "    alter_table_pk_sql = f\"\"\"\n",
    "    ALTER TABLE {table} ADD PRIMARY KEY (idx);\n",
    "    \"\"\"\n",
    "    create_gist_index_sql = f\"\"\"\n",
    "    CREATE INDEX gidx_{table}\n",
    "    ON {table} USING GIST (geometry);\n",
    "    \"\"\"\n",
    "    \n",
    "    # INSERT sql\n",
    "    insert_sql = f\"\"\"\n",
    "    INSERT INTO {table} (idx, resolution, circumradius_m, area_m2, centroid, geometry)\n",
    "    VALUES\n",
    "    \"\"\"\n",
    "    \n",
    "    # Get database cursor\n",
    "    cur = conn.cursor()\n",
    "    \n",
    "    ## Create table\n",
    "    cur.execute(create_table_sql)\n",
    "    conn.commit()\n",
    "    \n",
    "    ## Batch insert\n",
    "    POSTGRES_STATEMENT_MAX_RECORDS = 1000\n",
    "    TOTAL_HEXAGONS = len(h_cells)\n",
    "\n",
    "    record_count = 0\n",
    "    values_arguments_count = 0\n",
    "    values_arguments = \"\"\n",
    "    for h_cell in h_cells:\n",
    "        # Increase record count\n",
    "        record_count += 1\n",
    "        \n",
    "        # Extract H3 data for each hexagon\n",
    "        idx = h3.string_to_h3(h_cell)\n",
    "        resolution = h3.h3_get_resolution(h_cell)\n",
    "        circumradius_m = h3.edge_length(resolution, unit='m')\n",
    "        area_m2 = h3.cell_area(h_cell, unit='m^2')\n",
    "        centroid_lat, centroid_lng = h3.h3_to_geo(h=h_cell)\n",
    "        geojson = H3Transformation.h3cell_to_geojson(h3_cell=h_cell, include_properties=False, geometry_only=True)\n",
    "        \n",
    "        # Prepare values_arguments\n",
    "        values_arguments += f\"\"\"\n",
    "        (\n",
    "            {idx},\n",
    "            {resolution},\n",
    "            {circumradius_m},\n",
    "            {area_m2},\n",
    "            ST_SetSRID(ST_Point({centroid_lng}, {centroid_lat}), 4326),\n",
    "            ST_GeomFromGeoJSON('{geojson}')\n",
    "        ),\"\"\"\n",
    "        # values_arguments counter\n",
    "        values_arguments_count += 1\n",
    "        \n",
    "        # If reached POSTGRES_STATEMENT_MAX_RECORDS or record_count == TOTAL_HEXAGONS\n",
    "        if ((record_count % POSTGRES_STATEMENT_MAX_RECORDS == 0) or (record_count == TOTAL_HEXAGONS)):\n",
    "            print(\"--- Executing record: \", record_count)\n",
    "            \n",
    "            # Format values_arguments to execute query\n",
    "            values_arguments = values_arguments.rstrip(',')\n",
    "            query = insert_sql + values_arguments\n",
    "            cur.execute(query)\n",
    "            conn.commit()\n",
    "            print(f'--- Executed {values_arguments_count} values_arguments.')\n",
    "            \n",
    "            # Reset\n",
    "            values_arguments = \"\"\n",
    "            values_arguments_count = 0\n",
    "\n",
    "except(Exception, psycopg2.DatabaseError) as error:\n",
    "    print(error)\n",
    "    \n",
    "finally:\n",
    "    cur.execute(alter_table_pk_sql)\n",
    "    conn.commit()\n",
    "    cur.execute(create_gist_index_sql)\n",
    "    conn.commit()\n",
    "    conn.close()"
   ]
  },
  {
   "cell_type": "code",
   "execution_count": null,
   "metadata": {},
   "outputs": [],
   "source": [
    "h_cells_subset = set(itertools.islice(h_cells, 10))\n",
    "\n",
    "# # sample hexagons\n",
    "# hex = h3.geo_to_h3(lat=10.823098, lng=106.629663, resolution=5)\n",
    "# children = h3.h3_to_children(hex)\n",
    "\n",
    "# insert_into_sql = f\"\"\"\n",
    "# INSERT INTO sample_table (idx, resolution, geometry, centroid, area_m2, area_km2)\n",
    "# VALUES\n",
    "# \"\"\"\n",
    "\n",
    "for c in h_cells_subset:\n",
    "    print(H3Transformation.h3cell_to_geojson(h3_cell=h_cell, include_properties=False, geometry_only=True))"
   ]
  },
  {
   "cell_type": "code",
   "execution_count": null,
   "metadata": {},
   "outputs": [],
   "source": [
    "# polyfill_geojson = H3Transformation.h3_to_geojson(h_cells_subset)\n",
    "# print(polyfill_geojson)"
   ]
  },
  {
   "cell_type": "code",
   "execution_count": null,
   "metadata": {},
   "outputs": [],
   "source": [
    "lat,lng = h3.h3_to_geo(h=h_cell)\n",
    "print(lat)\n",
    "print(lng)"
   ]
  },
  {
   "cell_type": "code",
   "execution_count": null,
   "metadata": {},
   "outputs": [],
   "source": []
  }
 ],
 "metadata": {
  "kernelspec": {
   "display_name": "h3-py",
   "language": "python",
   "name": "python3"
  },
  "language_info": {
   "codemirror_mode": {
    "name": "ipython",
    "version": 3
   },
   "file_extension": ".py",
   "mimetype": "text/x-python",
   "name": "python",
   "nbconvert_exporter": "python",
   "pygments_lexer": "ipython3",
   "version": "3.11.3"
  },
  "orig_nbformat": 4
 },
 "nbformat": 4,
 "nbformat_minor": 2
}
