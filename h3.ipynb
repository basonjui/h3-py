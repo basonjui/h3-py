{
 "cells": [
  {
   "cell_type": "code",
   "execution_count": 2,
   "metadata": {},
   "outputs": [],
   "source": [
    "import h3\n",
    "from h3_transformation import H3Transformation"
   ]
  },
  {
   "attachments": {},
   "cell_type": "markdown",
   "metadata": {},
   "source": [
    "## Hexagon"
   ]
  },
  {
   "cell_type": "code",
   "execution_count": null,
   "metadata": {},
   "outputs": [],
   "source": [
    "lat = 10.7780202\n",
    "lng = 106.7019901\n",
    "resolution = 12  # 12 = 307.092 m2\n",
    "\n",
    "# Generate a H3 index from a latitude and longitude pair:\n",
    "h3_cell = h3.geo_to_h3(lat, lng, resolution)\n",
    "print(h3_cell)"
   ]
  },
  {
   "cell_type": "code",
   "execution_count": null,
   "metadata": {},
   "outputs": [],
   "source": [
    "# Convert a H3 index back to latitude and longitude:\n",
    "(lat, lng) = h3.h3_to_geo(h3_cell)\n",
    "print(lat, lng)"
   ]
  },
  {
   "attachments": {},
   "cell_type": "markdown",
   "metadata": {},
   "source": [
    "## Children"
   ]
  },
  {
   "cell_type": "code",
   "execution_count": null,
   "metadata": {},
   "outputs": [],
   "source": [
    "# children of a H3 cell\n",
    "children = h3.h3_to_children(h3_cell, resolution + 1)\n",
    "print(type(children))"
   ]
  },
  {
   "attachments": {},
   "cell_type": "markdown",
   "metadata": {},
   "source": [
    "## Traversal"
   ]
  },
  {
   "cell_type": "code",
   "execution_count": null,
   "metadata": {},
   "outputs": [],
   "source": [
    "# distance\n",
    "distance_km = 5"
   ]
  },
  {
   "attachments": {},
   "cell_type": "markdown",
   "metadata": {},
   "source": [
    "### Hex Range Distance"
   ]
  },
  {
   "cell_type": "code",
   "execution_count": null,
   "metadata": {},
   "outputs": [],
   "source": [
    "# hex_range_distance\n",
    "rings_5km = h3.hex_range_distances(h3_cell, distance_km)\n",
    "\n",
    "current_ring = 0\n",
    "for ring in rings_5km:\n",
    "    current_ring += 1\n",
    "    print(f'Ring {current_ring}: {len(ring)} cells')\n",
    "    \n",
    "    for cell in ring:\n",
    "        print(f'Cell: {cell}, Center: {h3.h3_to_geo(cell)}')\n",
    "        \n",
    "    print('-------------------')"
   ]
  },
  {
   "attachments": {},
   "cell_type": "markdown",
   "metadata": {},
   "source": [
    "### K-ring"
   ]
  },
  {
   "cell_type": "code",
   "execution_count": null,
   "metadata": {},
   "outputs": [],
   "source": [
    "# K-ring of a H3 cell:\n",
    "k_ring_5km = h3.k_ring(h3_cell, distance_km)\n",
    "\n",
    "print(type(k_ring_5km))\n",
    "for cell in k_ring_5km:\n",
    "    print(f'Cell: {cell}, Center: {h3.h3_to_geo(cell)}')"
   ]
  },
  {
   "attachments": {},
   "cell_type": "markdown",
   "metadata": {},
   "source": [
    "## H3 to GeoJSON"
   ]
  },
  {
   "cell_type": "code",
   "execution_count": null,
   "metadata": {},
   "outputs": [],
   "source": [
    "geojson = H3Transformer.h3_to_geojson(k_ring_5km)\n",
    "print(geojson)"
   ]
  },
  {
   "cell_type": "code",
   "execution_count": null,
   "metadata": {},
   "outputs": [],
   "source": []
  }
 ],
 "metadata": {
  "kernelspec": {
   "display_name": "h3-py",
   "language": "python",
   "name": "python3"
  },
  "language_info": {
   "codemirror_mode": {
    "name": "ipython",
    "version": 3
   },
   "file_extension": ".py",
   "mimetype": "text/x-python",
   "name": "python",
   "nbconvert_exporter": "python",
   "pygments_lexer": "ipython3",
   "version": "3.11.3"
  },
  "orig_nbformat": 4
 },
 "nbformat": 4,
 "nbformat_minor": 2
}
