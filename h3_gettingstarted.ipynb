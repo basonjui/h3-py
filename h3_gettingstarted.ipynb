{
 "cells": [
  {
   "attachments": {},
   "cell_type": "markdown",
   "metadata": {},
   "source": [
    "# H3 - Getting Started\n",
    "\n",
    "This notebook is a quick introduction to the H3 library. It will demonstrate the most basic functionality of the library, and provide links to more detailed documentation.\n",
    "\n",
    "**Important notes:**\n",
    "\n",
    "- The default Python API for H3 (via `import h3` or `import h3.api.basic_str`), represents indices in their hexadecimal format as a Python strs and uses standard Python collection types like set and list. These conventions make it more natural to work with h3-py objects in Python, but come at the cost of converting back and forth between the C and Python representations.\n",
    "\n",
    "- We will be using the *default* Python API (h3.api.basic_str) in this notebook. Therefore, whenever the term **\"h3\"** is used in H3 functions, it refers to a `string` representation of the H3 (which represent the hexadecimal string equivalent of the actual `H3Index` 64-bit integer value).\n",
    "\n",
    "- To learn more about h3-py APIs, click [Why are there multiple APIs?](https://uber.github.io/h3-py/api_comparison#why-are-there-multiple-apis)"
   ]
  },
  {
   "cell_type": "code",
   "execution_count": null,
   "metadata": {},
   "outputs": [],
   "source": [
    "import h3\n",
    "from h3_transformation import H3Transformation\n",
    "\n",
    "# Version numbers for C (wrapped) libraries and the Python (wrapper).\n",
    "h3.versions()"
   ]
  },
  {
   "attachments": {},
   "cell_type": "markdown",
   "metadata": {},
   "source": [
    "## Introduction"
   ]
  },
  {
   "attachments": {},
   "cell_type": "markdown",
   "metadata": {},
   "source": [
    "### `H3Index` - The core of H3\n",
    "The H3 system assigns a unique hierarchical index (H3Index) to each cell (hexagon/pentagon).\n",
    "- Each directed edge (Mode 2) and vertex (Mode 4) is assigned an index based on its origin or owner cell, respectively. \n",
    "\n"
   ]
  },
  {
   "attachments": {},
   "cell_type": "markdown",
   "metadata": {},
   "source": [
    "### `H3Index` Representations\n",
    "\n",
    "An H3Index is the 64-bit `integer` representation of an H3 index, which may be one of multiple modes to indicate the concept being indexed.\n",
    "- Mode 0 is reserved and indicates an **invalid H3 index**.\n",
    "- Mode 1 is an **H3 Cell** (Hexagon/Pentagon) index.\n",
    "- Mode 2 is an **H3 Directed Edge** (Cell A -> Cell B) index.\n",
    "- Mode 3 is planned to be a **bidirectional edge** (Cell A <-> Cell B).\n",
    "- Mode 4 is an **H3 Vertex** (i.e. a single vertex of an H3 Cell)."
   ]
  },
  {
   "attachments": {},
   "cell_type": "markdown",
   "metadata": {},
   "source": [
    "### Key points\n",
    "\n",
    "- By default, the keyword \"h3\" in H3 refers to the `string` representation the equivalent hexadecimal of the `H3Index` (a 64-bit `integer` H3 index) using lowercase letters.\n",
    "- `H3Index` refers to the 64-bit `integer` representation of an H3 index.\n",
    "- \"H3 Index\" / `H3Cell` refer to the `string` representation of the H3 index."
   ]
  },
  {
   "attachments": {},
   "cell_type": "markdown",
   "metadata": {},
   "source": [
    "---"
   ]
  },
  {
   "attachments": {},
   "cell_type": "markdown",
   "metadata": {},
   "source": [
    "## Main concepts\n",
    "\n",
    "We will go through the fundamental API usages of H3, please note that all the examples in this notebook are from H3 version 3.x (https://h3geo.org/docs/3.x/).\n",
    "\n",
    "A lot of these methods will look very different in H3 version 4.x (https://h3geo.org/docs/), which is currently in beta.\n",
    "\n",
    "Also, all the function names (e.g. `geoToH3`) & descriptions in this notebook are from the [h3geo](https://h3geo.org/docs/) documentation. Therefore, they may have different names & return inputs/outputs. However, the concepts are the same."
   ]
  },
  {
   "attachments": {},
   "cell_type": "markdown",
   "metadata": {},
   "source": [
    "### Indexing functions\n",
    "\n",
    "These function are used for finding the H3 index containing coordinates, and for finding the center and boundary of H3 indexes."
   ]
  },
  {
   "attachments": {},
   "cell_type": "markdown",
   "metadata": {},
   "source": [
    "#### [geoToH3](https://h3geo.org/docs/3.x/api/indexing#geotoh3)\n",
    "\n",
    "Indexes the location at the specified resolution, returning the index of the cell containing the location. This buckets the geographic point into the H3 grid. See the algorithm description for more information.\n",
    "\n",
    "Returns 0 on error."
   ]
  },
  {
   "cell_type": "code",
   "execution_count": null,
   "metadata": {},
   "outputs": [],
   "source": [
    "latitude = 10.7780202\n",
    "longitude = 106.7019901\n",
    "resolution = 12  # For geodesic statistics of resolution, visit: https://h3geo.org/docs/3.x/core-library/restable\n",
    "\n",
    "# Generate an H3 cell, which is an H3Index (string) in Mode 1. We will continue to use this H3 Cell thoughout the notebook.\n",
    "h3_cell = h3.geo_to_h3(lat=latitude, lng=longitude, resolution=resolution)\n",
    "h3_cell"
   ]
  },
  {
   "attachments": {},
   "cell_type": "markdown",
   "metadata": {},
   "source": [
    "#### [h3ToGeo](https://h3geo.org/docs/3.x/api/indexing#h3togeo)\n",
    "\n",
    "Finds the center (lat, lng) of the cell in grid space. See the algorithm description for more information.\n",
    "\n",
    "The center will drift versus the centroid of the cell on Earth due to distortion from the gnomonic projection within the icosahedron face it resides on and its distance from the center of the icosahedron face.\n",
    "\n"
   ]
  },
  {
   "cell_type": "code",
   "execution_count": null,
   "metadata": {},
   "outputs": [],
   "source": [
    "# Returns the (lat, lng) of the center of the H3 cell\n",
    "h3.h3_to_geo(h3_cell) # yes, h3_to_geo sounds pretty confusing, and H3 change this method to cell_to_latlng in v4.x"
   ]
  },
  {
   "attachments": {},
   "cell_type": "markdown",
   "metadata": {},
   "source": [
    "#### [h3ToGeoBoundary](https://h3geo.org/docs/3.x/api/indexing#h3togeoboundary)\n",
    "\n",
    "Finds the boundary (vertices of the hexagon/pentagon) of the cell.\n",
    "\n",
    "To learn more about the implementation, take a look at the documentation: [Generate the cell boundary in latitude/longitude coordinates of an H3Index cell](https://h3geo.org/docs/3.x/core-library/h3ToGeoBoundaryDesc/)."
   ]
  },
  {
   "cell_type": "code",
   "execution_count": null,
   "metadata": {},
   "outputs": [],
   "source": [
    "boundary = h3.h3_to_geo_boundary(h3_cell, geo_json=False)\n",
    "boundary_geojson = h3.h3_to_geo_boundary(\n",
    "    h3_cell,\n",
    "    geo_json=True,  # returns output in GeoJSON format: [lng, lat] order; first and last coordinates are identical.\n",
    ")\n",
    "\n",
    "print(boundary, boundary_geojson, sep=\"\\n\")"
   ]
  },
  {
   "attachments": {},
   "cell_type": "markdown",
   "metadata": {},
   "source": [
    "### Inspection functions\n",
    "\n",
    "These functions provide metadata about an H3 index, such as its resolution or base cell, and provide utilities for converting into and out of the 64-bit representation of an H3 index."
   ]
  },
  {
   "attachments": {},
   "cell_type": "markdown",
   "metadata": {},
   "source": [
    "#### [h3GetResolution](https://h3geo.org/docs/3.x/api/inspection#h3getresolution)\n",
    "\n",
    "Returns the resolution of the index."
   ]
  },
  {
   "cell_type": "code",
   "execution_count": null,
   "metadata": {},
   "outputs": [],
   "source": [
    "h3.h3_get_resolution(h3_cell)"
   ]
  },
  {
   "attachments": {},
   "cell_type": "markdown",
   "metadata": {},
   "source": [
    "#### [h3GetBaseCell](https://h3geo.org/docs/3.x/api/inspection#h3getbasecell)\n",
    "\n",
    "Returns the base cell number of the index."
   ]
  },
  {
   "cell_type": "code",
   "execution_count": null,
   "metadata": {},
   "outputs": [],
   "source": [
    "h3.h3_get_base_cell(h3_cell)"
   ]
  },
  {
   "attachments": {},
   "cell_type": "markdown",
   "metadata": {},
   "source": [
    "#### [stringToH3](https://h3geo.org/docs/3.x/api/inspection#stringtoh3)\n",
    "\n",
    "Converts the string representation to `H3Index` (uint64_t) representation. \n",
    "- By default, all the H3 indexes are represented as a `string`. Whenever the term `H3Index` is mentioned, it refers to the `uint64_t` representation of the index.\n",
    "\n",
    "Returns 0 on error."
   ]
  },
  {
   "cell_type": "code",
   "execution_count": null,
   "metadata": {},
   "outputs": [],
   "source": [
    "h3_cell_uint64_t = h3.string_to_h3(h3_cell)\n",
    "\n",
    "print(type(h3_cell_uint64_t), h3_cell_uint64_t)"
   ]
  },
  {
   "attachments": {},
   "cell_type": "markdown",
   "metadata": {},
   "source": [
    "#### [h3ToString](https://h3geo.org/docs/3.x/api/inspection#h3tostring)\n",
    "\n",
    "Converts the `H3Index` (uint64_t) representation of the index to the `string` representation. str must be at least of length 17."
   ]
  },
  {
   "cell_type": "code",
   "execution_count": null,
   "metadata": {},
   "outputs": [],
   "source": [
    "h3_cell_str = h3.h3_to_string(h3_cell_uint64_t)\n",
    "\n",
    "print(\"h3_cell_str       :\", type(h3_cell_str), h3_cell_str)    # `string` representation of the H3 Cell.\n",
    "print(\"h3_cell (default) :\", type(h3_cell), h3_cell)            # In the default Python API, any H3 Cell generated is already in the `string` representation."
   ]
  },
  {
   "attachments": {},
   "cell_type": "markdown",
   "metadata": {},
   "source": [
    "#### [h3IsValid](https://h3geo.org/docs/3.x/api/inspection#h3isvalid)\n",
    "\n",
    "Returns non-zero if this is a valid H3 index."
   ]
  },
  {
   "cell_type": "code",
   "execution_count": null,
   "metadata": {},
   "outputs": [],
   "source": [
    "h3_cell_check           = h3.h3_is_valid(h3_cell)\n",
    "h3_cell_str_check       = h3.h3_is_valid(h3_cell_str)\n",
    "h3_cell_uint64_t_check  = h3.h3_is_valid(h3_cell_uint64_t)\n",
    "\n",
    "# However, it seems that `h3_is_valid` only works with `string` representation of the H3 Cell. I guess in v3.x, the term `h3` always refers to the `string` representation of the H3 Cell :-). \n",
    "h3_cell_check, h3_cell_str_check, h3_cell_uint64_t_check"
   ]
  },
  {
   "attachments": {},
   "cell_type": "markdown",
   "metadata": {},
   "source": [
    "#### [h3ispentagon](https://h3geo.org/docs/3.x/api/inspection#h3ispentagon)\n",
    "\n",
    "Returns non-zero if this index represents a pentagonal cell.\n",
    "\n",
    "*Why is there a Pentagon?*\n",
    "> \"The H3 grid is constructed by laying out **122 base cells** (icosahedrons) over the Earth, with ten cells per face. Some cells are contained by more than one face. Since it is not possible to tile the icosahedron with only hexagons, we chose to introduce **twelve pentagons**, one at *each of the icosahedron vertices*. These vertices were positioned using the spherical icosahedron orientation by R. Buckminster Fuller, which places **all the vertices in the water**. This helps avoid pentagons surfacing in our work.\" - [Uber Blog/H3, 2018](https://www.uber.com/en-VN/blog/h3/)\n"
   ]
  },
  {
   "cell_type": "code",
   "execution_count": null,
   "metadata": {},
   "outputs": [],
   "source": [
    "h3.h3_is_pentagon(h3_cell)"
   ]
  },
  {
   "attachments": {},
   "cell_type": "markdown",
   "metadata": {},
   "source": [
    "### Grid Traversal functions\n",
    "\n",
    "Grid traversal allows finding cells in the vicinity of an origin cell, and determining how to traverse the grid from one cell to another."
   ]
  },
  {
   "cell_type": "code",
   "execution_count": null,
   "metadata": {},
   "outputs": [],
   "source": []
  },
  {
   "attachments": {},
   "cell_type": "markdown",
   "metadata": {},
   "source": [
    "## Children"
   ]
  },
  {
   "cell_type": "code",
   "execution_count": null,
   "metadata": {},
   "outputs": [],
   "source": [
    "# children of a H3 cell\n",
    "children = h3.h3_to_children(h3_cell, resolution + 1)\n",
    "print(children)"
   ]
  },
  {
   "attachments": {},
   "cell_type": "markdown",
   "metadata": {},
   "source": [
    "## Traversal\n",
    "\n",
    "Grid traversal allows finding cells in the vicinity of an origin cell, and determining how to traverse the grid from one cell to another."
   ]
  },
  {
   "cell_type": "code",
   "execution_count": null,
   "metadata": {},
   "outputs": [],
   "source": [
    "# Set distance for all traversal examples\n",
    "distance_km = 5"
   ]
  },
  {
   "attachments": {},
   "cell_type": "markdown",
   "metadata": {},
   "source": [
    "#### [kRing](https://h3geo.org/docs/3.x/api/traversal)\n",
    "\n",
    "k-rings produces indices within k distance of the origin index.\n",
    "\n",
    "k-ring 0 is defined as the origin index, k-ring 1 is defined as k-ring 0 and all neighboring indices, and so on.\n",
    "\n",
    "Output is placed in the provided array in **no particular order**. Elements of the output array may be left zero, as can happen when crossing a pentagon."
   ]
  },
  {
   "cell_type": "code",
   "execution_count": null,
   "metadata": {},
   "outputs": [],
   "source": [
    "# K-ring of a H3 cell:\n",
    "cells_5km = h3.k_ring(h=h3_cell, k=distance_km)\n",
    "\n",
    "print(\"k_ring_5km   :\", type(cells_5km))\n",
    "print(\"Total cells  :\", len(cells_5km))\n",
    "print(cells_5km)"
   ]
  },
  {
   "attachments": {},
   "cell_type": "markdown",
   "metadata": {},
   "source": [
    "#### [kRingDistances](https://h3geo.org/docs/3.x/api/traversal#kringdistances)\n",
    "\n",
    "Alias for `hex_range_distances`:\n",
    "- Ordered list of the \"hollow\" rings around h, up to and including distance K."
   ]
  },
  {
   "cell_type": "code",
   "execution_count": null,
   "metadata": {},
   "outputs": [],
   "source": [
    "rings_5km = h3.k_ring_distances(h3_cell, distance_km)\n",
    "\n",
    "print(\"k_ring_distances_5km :\", type(rings_5km))\n",
    "print(\"Total rings          :\", len(rings_5km))\n",
    "print(rings_5km)"
   ]
  },
  {
   "attachments": {},
   "cell_type": "markdown",
   "metadata": {},
   "source": [
    "### Hex Range Distance\n",
    "\n",
    "hexRange produces indexes within k distance of the origin index. Output behavior is undefined when one of the indexes returned by this function is a pentagon or is in the pentagon distortion area.\n",
    "\n",
    "k-ring 0 is defined as the origin index, k-ring 1 is defined as k-ring 0 and all neighboring indexes, and so on."
   ]
  },
  {
   "cell_type": "code",
   "execution_count": null,
   "metadata": {},
   "outputs": [],
   "source": [
    "# hex_range_distance\n",
    "rings_5km = h3.hex_range_distances(h3_cell, distance_km)\n",
    "\n",
    "current_ring = 0\n",
    "for ring in rings_5km:\n",
    "    current_ring += 1\n",
    "    print(f\"Ring {current_ring} has {len(ring)} cells\")\n",
    "\n",
    "    for cell in ring:\n",
    "        print(f\"Cell: {cell}, Center: {h3.h3_to_geo(cell)}\")\n",
    "\n",
    "    print(\"-------------------\")"
   ]
  },
  {
   "attachments": {},
   "cell_type": "markdown",
   "metadata": {},
   "source": [
    "## H3 to GeoJSON"
   ]
  },
  {
   "cell_type": "code",
   "execution_count": null,
   "metadata": {},
   "outputs": [],
   "source": [
    "geojson = H3Transformation.cells_to_geojson(k_ring_5km)\n",
    "print(geojson)"
   ]
  },
  {
   "cell_type": "code",
   "execution_count": null,
   "metadata": {},
   "outputs": [],
   "source": []
  }
 ],
 "metadata": {
  "kernelspec": {
   "display_name": "h3-py",
   "language": "python",
   "name": "python3"
  },
  "language_info": {
   "codemirror_mode": {
    "name": "ipython",
    "version": 3
   },
   "file_extension": ".py",
   "mimetype": "text/x-python",
   "name": "python",
   "nbconvert_exporter": "python",
   "pygments_lexer": "ipython3",
   "version": "3.11.3"
  },
  "orig_nbformat": 4
 },
 "nbformat": 4,
 "nbformat_minor": 2
}
